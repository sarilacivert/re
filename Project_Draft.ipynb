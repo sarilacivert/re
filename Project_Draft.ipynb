{
 "cells": [
  {
   "cell_type": "markdown",
   "metadata": {},
   "source": [
    "# A Data Science Perspective on Predicting Residential Real Estate Prices by John Foxworthy\n",
    "\n",
    "# Abstract\n",
    "\n",
    "What drives the price of housing?  Are there any characteristics that explain price behavior? How can we predict the next price?\n",
    "\n",
    "For this project, I use a Data Science perspective, which applies statistical techniques to a business case with some tools of software development, especially Python. The chosen data set is for demonstration purposes only and comes from https://www.zillow.com/research/data/ , which is seasonally adjusted.  Narrative analytics from the Exploratory Data Analysis will drive the argument for the model selection.  AutoRegressive Integrated Moving Average (ARIMA) will be implemented followed by Exponential Smoothing to make prediction of next month's price     \n",
    "\n",
    "# Introduction\n",
    "\n",
    "The median sale price has no assumptions how each property sale price is grouped or distributed.  By taking the middle number of a particular month we can have the best representation of a monthly dataset.  An arithmetic average would be bias as the distribution of all the sale prices vary from one month to the next.  \n",
    "\n",
    "For example, if a small series of months have a majority of sale prices on the lower end of values with a minority count on the higher end, then an average would underrepresent the higher end values and overrepresent the more common lower end values.  Conversely, higher end values with a smaller count on the lower end would underrepresent the lower end values and overrepresent the more common higher end values.  The median, however, does a better job in capturing the skewness of data over seveal months of time because it does not treat each datapoint equally by dividing the overall count.  \n",
    "\n",
    "We begin, first by loading the data and we will see how skewness is a central theme to this project to capture the central tendency of the sale price of residential real estate . . . thereafter to eventually predict the next month's median sale price.  Below is an outline of the project.  \n",
    "\n",
    "# I.     Importing the Time Series Data \n",
    "\n",
    "# II.    Exploratory Data Analysis\n",
    "\n",
    "# III.   Setting Up ARIMA\n",
    "\n",
    "# IV.   ARIMA Model\n",
    "\n",
    "# V.    Exponential Smoothing\n",
    "\n",
    "# VI.  Conclusion\n",
    "\n",
    "# VII. Appendix"
   ]
  },
  {
   "cell_type": "code",
   "execution_count": 1,
   "metadata": {},
   "outputs": [],
   "source": [
    "# Required General Libaries to Import \n",
    "import sys\n",
    "import warnings\n",
    "from datetime import datetime\n",
    "import datetime as dt\n",
    "\n",
    "# Data Science Analytics Libraries\n",
    "import numpy as np\n",
    "import pandas as pd\n",
    "from scipy import stats\n",
    "\n",
    "# Data Visualization Libaries \n",
    "import seaborn as sns\n",
    "import matplotlib.pyplot as plt\n",
    "%matplotlib inline\n",
    "\n",
    "# Suppress annoying harmless error.\n",
    "warnings.filterwarnings(\n",
    "    action=\"ignore\",\n",
    "    module=\"scipy\",\n",
    "    message=\"^internal gelsd\"\n",
    ")"
   ]
  },
  {
   "cell_type": "markdown",
   "metadata": {},
   "source": [
    "# I.  Importing the Time Series Data"
   ]
  },
  {
   "cell_type": "code",
   "execution_count": 2,
   "metadata": {},
   "outputs": [
    {
     "data": {
      "text/plain": [
       "['Month', 'San_Francisco_Median_Price']"
      ]
     },
     "execution_count": 2,
     "metadata": {},
     "output_type": "execute_result"
    }
   ],
   "source": [
    "# load data\n",
    "df = pd.read_csv('/Users/lacivert/re/data.csv')\n",
    "\n",
    "df = pd.DataFrame(df)\n",
    "\n",
    "list(df.columns.values)"
   ]
  },
  {
   "cell_type": "code",
   "execution_count": 3,
   "metadata": {},
   "outputs": [],
   "source": [
    "# Clean up missing values \n",
    "df.dropna(how='any', inplace=True)"
   ]
  },
  {
   "cell_type": "code",
   "execution_count": 4,
   "metadata": {},
   "outputs": [
    {
     "data": {
      "text/html": [
       "<div>\n",
       "<style scoped>\n",
       "    .dataframe tbody tr th:only-of-type {\n",
       "        vertical-align: middle;\n",
       "    }\n",
       "\n",
       "    .dataframe tbody tr th {\n",
       "        vertical-align: top;\n",
       "    }\n",
       "\n",
       "    .dataframe thead th {\n",
       "        text-align: right;\n",
       "    }\n",
       "</style>\n",
       "<table border=\"1\" class=\"dataframe\">\n",
       "  <thead>\n",
       "    <tr style=\"text-align: right;\">\n",
       "      <th></th>\n",
       "      <th>San_Francisco_Median_Price</th>\n",
       "    </tr>\n",
       "  </thead>\n",
       "  <tbody>\n",
       "    <tr>\n",
       "      <th>count</th>\n",
       "      <td>273</td>\n",
       "    </tr>\n",
       "    <tr>\n",
       "      <th>mean</th>\n",
       "      <td>827,262</td>\n",
       "    </tr>\n",
       "    <tr>\n",
       "      <th>std</th>\n",
       "      <td>356,098</td>\n",
       "    </tr>\n",
       "    <tr>\n",
       "      <th>min</th>\n",
       "      <td>258,100</td>\n",
       "    </tr>\n",
       "    <tr>\n",
       "      <th>25%</th>\n",
       "      <td>593,450</td>\n",
       "    </tr>\n",
       "    <tr>\n",
       "      <th>50%</th>\n",
       "      <td>790,300</td>\n",
       "    </tr>\n",
       "    <tr>\n",
       "      <th>75%</th>\n",
       "      <td>914,800</td>\n",
       "    </tr>\n",
       "    <tr>\n",
       "      <th>max</th>\n",
       "      <td>1,520,200</td>\n",
       "    </tr>\n",
       "  </tbody>\n",
       "</table>\n",
       "</div>"
      ],
      "text/plain": [
       "       San_Francisco_Median_Price\n",
       "count                         273\n",
       "mean                      827,262\n",
       "std                       356,098\n",
       "min                       258,100\n",
       "25%                       593,450\n",
       "50%                       790,300\n",
       "75%                       914,800\n",
       "max                     1,520,200"
      ]
     },
     "execution_count": 4,
     "metadata": {},
     "output_type": "execute_result"
    }
   ],
   "source": [
    "# Descriptive Statistics Table\n",
    "pd.options.display.float_format = '{:,.0f}'.format # Limit output to no decimal places\n",
    "df.describe()"
   ]
  },
  {
   "cell_type": "markdown",
   "metadata": {},
   "source": [
    "# II.  Exploratory Data Analysis \n",
    "\n",
    "After setting up the data, let's uncover the main characteristics of the time series for analysis before we model.  The findings below will drive model selection for prediction and more importantly reject other models.  As we will see below the distribution of median sale price has a constant theme.   \n",
    "\n",
    "First, the descriptive statistics above shows the distribution of the data is skewed from the 273 observations from April 1996 to December 2018.  Regardless, if you take the average mean value of 827,262 or 790,300 representing 50 percentile, then there is a greater distance of datapoints left of the distribution."
   ]
  },
  {
   "cell_type": "code",
   "execution_count": 5,
   "metadata": {},
   "outputs": [],
   "source": [
    "# Assign variables for analysis \n",
    "sf = df.loc[:,'San_Francisco_Median_Price']"
   ]
  },
  {
   "cell_type": "code",
   "execution_count": 6,
   "metadata": {},
   "outputs": [
    {
     "data": {
      "text/plain": [
       "(196850.0, 124500.0)"
      ]
     },
     "execution_count": 6,
     "metadata": {},
     "output_type": "execute_result"
    }
   ],
   "source": [
    "np.percentile(sf,50) - np.percentile(sf,25), np.percentile(sf,75) - np.percentile(sf,50)\n"
   ]
  },
  {
   "cell_type": "markdown",
   "metadata": {},
   "source": [
    "196,850 is greater than 124,500 so the higher end values are possibly long and sparse, while the lower end values are dense and more common. "
   ]
  },
  {
   "cell_type": "code",
   "execution_count": 7,
   "metadata": {},
   "outputs": [
    {
     "data": {
      "text/plain": [
       "San_Francisco_Median_Price   233,812\n",
       "dtype: float64"
      ]
     },
     "execution_count": 7,
     "metadata": {},
     "output_type": "execute_result"
    }
   ],
   "source": [
    "df.mean() - np.percentile(sf,25)"
   ]
  },
  {
   "cell_type": "code",
   "execution_count": 8,
   "metadata": {},
   "outputs": [
    {
     "data": {
      "text/plain": [
       "San_Francisco_Median_Price   87,538\n",
       "dtype: float64"
      ]
     },
     "execution_count": 8,
     "metadata": {},
     "output_type": "execute_result"
    }
   ],
   "source": [
    "abs(df.mean() - np.percentile(sf,75))"
   ]
  },
  {
   "cell_type": "markdown",
   "metadata": {},
   "source": [
    "233,812 is greater than 87,538 with the same theme, but exaggerated because of the arithmetic average."
   ]
  },
  {
   "cell_type": "code",
   "execution_count": 9,
   "metadata": {},
   "outputs": [
    {
     "data": {
      "text/plain": [
       "San_Francisco_Median_Price   827,262\n",
       "dtype: float64"
      ]
     },
     "execution_count": 9,
     "metadata": {},
     "output_type": "execute_result"
    }
   ],
   "source": [
    "df.mean()"
   ]
  },
  {
   "cell_type": "markdown",
   "metadata": {},
   "source": [
    "Let us analyze the skewness further with data visualization."
   ]
  },
  {
   "cell_type": "code",
   "execution_count": 10,
   "metadata": {},
   "outputs": [
    {
     "data": {
      "text/plain": [
       "Text(0.5, 1.0, 'Monthly Distplot\\nApril 1996 - December 2018')"
      ]
     },
     "execution_count": 10,
     "metadata": {},
     "output_type": "execute_result"
    },
    {
     "data": {
      "image/png": "[encoded data removed]",
      "text/plain": [
       "<Figure size 432x288 with 1 Axes>"
      ]
     },
     "metadata": {},
     "output_type": "display_data"
    }
   ],
   "source": [
    "# Histogram of Median Sale Prices\n",
    "\n",
    "sns.set(style=\"darkgrid\") \n",
    "g = sns.distplot(sf, hist=True, axlabel = \"Monthly San Francisco Medial Sale Price\",  \n",
    "                 kde_kws={\"color\": \"gold\", \"lw\": 5}, \n",
    "                 hist_kws={\"linewidth\": 5,\"color\": \"darkcyan\"})\n",
    "\n",
    "# Format the horizontal and vertical axes\n",
    "xlabels = ['{:,.2f}'.format(x) + 'M' for x in g.get_xticks()/1000000]\n",
    "g.set_xticklabels(xlabels, fontsize=12)\n",
    "\n",
    "ylabels = ['{:,.0f}'.format(x) for x in g.get_yticks()*10000000]\n",
    "g.set_yticklabels(ylabels, fontsize=12)\n",
    "\n",
    "# Label and Title \n",
    "plt.ylabel('Number of Occurrences or Density',color='blue',weight='bold')\n",
    "plt.title('Monthly Distplot\\nApril 1996 - December 2018', color='blue',weight='bold')"
   ]
  },
  {
   "cell_type": "markdown",
   "metadata": {},
   "source": [
    "The distplot above with the blue colored discrete histogram and the best fit continuous yellow colored line provides an important level of understanding on the grouping of historical median sale prices and its distribution.  Not only do we not have a normal distribution, but there is no gradual increase from the lowest values to the central tendency such as the median from one bucket to the next.  Nor do we have gradual decrease from the median to the highest values of the median sale price in San Francisco.  Data visualization provides not one, but two humps in the monthly median values.  \n",
    "\n",
    "Let us proceed with statistical metrics below to finish off our case for model selection."
   ]
  },
  {
   "cell_type": "code",
   "execution_count": 11,
   "metadata": {
    "scrolled": true
   },
   "outputs": [
    {
     "data": {
      "text/plain": [
       "0.4650429300892724"
      ]
     },
     "execution_count": 11,
     "metadata": {},
     "output_type": "execute_result"
    }
   ],
   "source": [
    "stats.skew(sf)"
   ]
  },
  {
   "cell_type": "markdown",
   "metadata": {},
   "source": [
    "A positive skew number has the right tail of the distribution is longer than the left, while a normal distrubtion has a zero skew."
   ]
  },
  {
   "cell_type": "code",
   "execution_count": 12,
   "metadata": {},
   "outputs": [
    {
     "data": {
      "text/plain": [
       "-0.6098890366014929"
      ]
     },
     "execution_count": 12,
     "metadata": {},
     "output_type": "execute_result"
    }
   ],
   "source": [
    "stats.kurtosis(sf)"
   ]
  },
  {
   "cell_type": "markdown",
   "metadata": {},
   "source": [
    "Pearson definition of kurtosis has a normal distribution of zero and a negative kurtosis means thinner tails.  This is troublesome because if we had the opposite, which is fat tails, then we would have room for models with a normal distribution assumption.  Tails are a smaller quantity of the overall dataset compared to the larger quantity of the hump.  Let's verify if the dataset is normally distributed.   "
   ]
  },
  {
   "cell_type": "markdown",
   "metadata": {},
   "source": [
    "The Shapiro–Wilk tests whether a given time series is normally distributed or not, which is helpful for relatively small sample sizes.  The statistical function will return two numbers.  The second number is the probability value or p - value and if it is 0.05 or greater then dataset is probably normal.  Otherwise, if the p - value less than 0.05, then the dataset is probably not normal.  The chance of rejecting the hypothesis when it is true is close to 5% regardless of sample size so we have a 95% level of confidence."
   ]
  },
  {
   "cell_type": "code",
   "execution_count": 13,
   "metadata": {},
   "outputs": [
    {
     "data": {
      "text/plain": [
       "(0.9234578609466553, 1.2414844152708326e-10)"
      ]
     },
     "execution_count": 13,
     "metadata": {},
     "output_type": "execute_result"
    }
   ],
   "source": [
    "stats.shapiro(sf)"
   ]
  },
  {
   "cell_type": "markdown",
   "metadata": {},
   "source": [
    "The p - value is very close to zero and therefore less than 0.05 so the data is probably not normal."
   ]
  },
  {
   "cell_type": "markdown",
   "metadata": {},
   "source": [
    "Exploratory Data Analysis concludes that the dataset is not normally distributed so models that assume normality will produce inaccurate predictions.  Multiple Linear Regression and related models assume a normal distribution so there will be a gap between the predicted values and the observed values, i.e. residuals.  There is enough information in the historical median sales price to implement a time series model like ARIMA below.  "
   ]
  },
  {
   "cell_type": "markdown",
   "metadata": {},
   "source": [
    "# III.  Setting up ARIMA"
   ]
  },
  {
   "cell_type": "markdown",
   "metadata": {},
   "source": [
    "ARIMA assumes historic values dictates the behaviour of the present and the inputted time series data is stationary, i.e. the mean and variance do not change over time.  The most common median sales prices of the dataset can produce an arithmetic mean . . . and how the median sale price varies around that mean is the variance.  The evolution of a process is a single trend term, which has a linear relationship between time and your outcome.  Each step in time, i.e. an additional month, has a changing outcome as our knowledge completes at each iterative step.  We look back a certain distance to provide the means to look forward, for one month or one increment.  Shocks and outliers fade over time, month by month, as the ARIMA model adjusts and the observable data absorbs the underlying effects of randomness.\n",
    "\n",
    "We first build ARIMA from an extension of multiple linear regression with differencing to make the time series data stationary.  Subtracting each term from the following term, i.e. a single median sale price month from the next one, we build the AR, i.e. the autoregression of ARIMA.  Yesterday's outcome based on today's outcome with some left over noise or error term.  \n",
    "\n",
    "Thereafter, the moving average, MA, which changes the focus on the prior error term that leads us to ARMA.  If our test results are statistically signficant with tame residuals, then we can proceed to integrate with ARIMA.  First, we build a date index to process the model using the Pandas library, pd.        "
   ]
  },
  {
   "cell_type": "code",
   "execution_count": 14,
   "metadata": {},
   "outputs": [],
   "source": [
    "df.index = pd.to_datetime(df.Month)"
   ]
  },
  {
   "cell_type": "code",
   "execution_count": 15,
   "metadata": {},
   "outputs": [
    {
     "data": {
      "image/png": "[encoded data removed]",
      "text/plain": [
       "<Figure size 432x288 with 1 Axes>"
      ]
     },
     "metadata": {},
     "output_type": "display_data"
    }
   ],
   "source": [
    "h = df.plot()\n",
    "h.get_yaxis().set_major_formatter(plt.FuncFormatter(lambda x, loc: \"{:,}\".format(int(x))))\n",
    "plt.show()"
   ]
  },
  {
   "cell_type": "code",
   "execution_count": 16,
   "metadata": {},
   "outputs": [
    {
     "data": {
      "text/html": [
       "<div>\n",
       "<style scoped>\n",
       "    .dataframe tbody tr th:only-of-type {\n",
       "        vertical-align: middle;\n",
       "    }\n",
       "\n",
       "    .dataframe tbody tr th {\n",
       "        vertical-align: top;\n",
       "    }\n",
       "\n",
       "    .dataframe thead th {\n",
       "        text-align: right;\n",
       "    }\n",
       "</style>\n",
       "<table border=\"1\" class=\"dataframe\">\n",
       "  <thead>\n",
       "    <tr style=\"text-align: right;\">\n",
       "      <th></th>\n",
       "      <th>San_Francisco_Median_Price</th>\n",
       "    </tr>\n",
       "    <tr>\n",
       "      <th>Month</th>\n",
       "      <th></th>\n",
       "    </tr>\n",
       "  </thead>\n",
       "  <tbody>\n",
       "    <tr>\n",
       "      <th>1996-04-01</th>\n",
       "      <td>258100</td>\n",
       "    </tr>\n",
       "    <tr>\n",
       "      <th>1996-05-01</th>\n",
       "      <td>260850</td>\n",
       "    </tr>\n",
       "    <tr>\n",
       "      <th>1996-06-01</th>\n",
       "      <td>262750</td>\n",
       "    </tr>\n",
       "    <tr>\n",
       "      <th>1996-07-01</th>\n",
       "      <td>265000</td>\n",
       "    </tr>\n",
       "    <tr>\n",
       "      <th>1996-08-01</th>\n",
       "      <td>267100</td>\n",
       "    </tr>\n",
       "    <tr>\n",
       "      <th>1996-09-01</th>\n",
       "      <td>267950</td>\n",
       "    </tr>\n",
       "    <tr>\n",
       "      <th>1996-10-01</th>\n",
       "      <td>268350</td>\n",
       "    </tr>\n",
       "    <tr>\n",
       "      <th>1996-11-01</th>\n",
       "      <td>269900</td>\n",
       "    </tr>\n",
       "    <tr>\n",
       "      <th>1996-12-01</th>\n",
       "      <td>271800</td>\n",
       "    </tr>\n",
       "    <tr>\n",
       "      <th>1997-01-01</th>\n",
       "      <td>273550</td>\n",
       "    </tr>\n",
       "    <tr>\n",
       "      <th>1997-02-01</th>\n",
       "      <td>287400</td>\n",
       "    </tr>\n",
       "    <tr>\n",
       "      <th>1997-03-01</th>\n",
       "      <td>290500</td>\n",
       "    </tr>\n",
       "    <tr>\n",
       "      <th>1997-04-01</th>\n",
       "      <td>293100</td>\n",
       "    </tr>\n",
       "    <tr>\n",
       "      <th>1997-05-01</th>\n",
       "      <td>295500</td>\n",
       "    </tr>\n",
       "    <tr>\n",
       "      <th>1997-06-01</th>\n",
       "      <td>297600</td>\n",
       "    </tr>\n",
       "    <tr>\n",
       "      <th>1997-07-01</th>\n",
       "      <td>300600</td>\n",
       "    </tr>\n",
       "    <tr>\n",
       "      <th>1997-08-01</th>\n",
       "      <td>308550</td>\n",
       "    </tr>\n",
       "    <tr>\n",
       "      <th>1997-09-01</th>\n",
       "      <td>313250</td>\n",
       "    </tr>\n",
       "    <tr>\n",
       "      <th>1997-10-01</th>\n",
       "      <td>317850</td>\n",
       "    </tr>\n",
       "    <tr>\n",
       "      <th>1997-11-01</th>\n",
       "      <td>322650</td>\n",
       "    </tr>\n",
       "    <tr>\n",
       "      <th>1997-12-01</th>\n",
       "      <td>327800</td>\n",
       "    </tr>\n",
       "    <tr>\n",
       "      <th>1998-01-01</th>\n",
       "      <td>334450</td>\n",
       "    </tr>\n",
       "    <tr>\n",
       "      <th>1998-02-01</th>\n",
       "      <td>340850</td>\n",
       "    </tr>\n",
       "    <tr>\n",
       "      <th>1998-03-01</th>\n",
       "      <td>343900</td>\n",
       "    </tr>\n",
       "    <tr>\n",
       "      <th>1998-04-01</th>\n",
       "      <td>344150</td>\n",
       "    </tr>\n",
       "    <tr>\n",
       "      <th>1998-05-01</th>\n",
       "      <td>345300</td>\n",
       "    </tr>\n",
       "    <tr>\n",
       "      <th>1998-06-01</th>\n",
       "      <td>348250</td>\n",
       "    </tr>\n",
       "    <tr>\n",
       "      <th>1998-07-01</th>\n",
       "      <td>351700</td>\n",
       "    </tr>\n",
       "    <tr>\n",
       "      <th>1998-08-01</th>\n",
       "      <td>354700</td>\n",
       "    </tr>\n",
       "    <tr>\n",
       "      <th>1998-09-01</th>\n",
       "      <td>357300</td>\n",
       "    </tr>\n",
       "    <tr>\n",
       "      <th>...</th>\n",
       "      <td>...</td>\n",
       "    </tr>\n",
       "    <tr>\n",
       "      <th>2016-07-01</th>\n",
       "      <td>1448100</td>\n",
       "    </tr>\n",
       "    <tr>\n",
       "      <th>2016-08-01</th>\n",
       "      <td>1431800</td>\n",
       "    </tr>\n",
       "    <tr>\n",
       "      <th>2016-09-01</th>\n",
       "      <td>1431000</td>\n",
       "    </tr>\n",
       "    <tr>\n",
       "      <th>2016-10-01</th>\n",
       "      <td>1425700</td>\n",
       "    </tr>\n",
       "    <tr>\n",
       "      <th>2016-11-01</th>\n",
       "      <td>1424100</td>\n",
       "    </tr>\n",
       "    <tr>\n",
       "      <th>2016-12-01</th>\n",
       "      <td>1426500</td>\n",
       "    </tr>\n",
       "    <tr>\n",
       "      <th>2017-01-01</th>\n",
       "      <td>1427800</td>\n",
       "    </tr>\n",
       "    <tr>\n",
       "      <th>2017-02-01</th>\n",
       "      <td>1428500</td>\n",
       "    </tr>\n",
       "    <tr>\n",
       "      <th>2017-03-01</th>\n",
       "      <td>1435800</td>\n",
       "    </tr>\n",
       "    <tr>\n",
       "      <th>2017-04-01</th>\n",
       "      <td>1447500</td>\n",
       "    </tr>\n",
       "    <tr>\n",
       "      <th>2017-05-01</th>\n",
       "      <td>1453300</td>\n",
       "    </tr>\n",
       "    <tr>\n",
       "      <th>2017-06-01</th>\n",
       "      <td>1455300</td>\n",
       "    </tr>\n",
       "    <tr>\n",
       "      <th>2017-07-01</th>\n",
       "      <td>1460600</td>\n",
       "    </tr>\n",
       "    <tr>\n",
       "      <th>2017-08-01</th>\n",
       "      <td>1469400</td>\n",
       "    </tr>\n",
       "    <tr>\n",
       "      <th>2017-09-01</th>\n",
       "      <td>1475500</td>\n",
       "    </tr>\n",
       "    <tr>\n",
       "      <th>2017-10-01</th>\n",
       "      <td>1406500</td>\n",
       "    </tr>\n",
       "    <tr>\n",
       "      <th>2017-11-01</th>\n",
       "      <td>1443800</td>\n",
       "    </tr>\n",
       "    <tr>\n",
       "      <th>2017-12-01</th>\n",
       "      <td>1444100</td>\n",
       "    </tr>\n",
       "    <tr>\n",
       "      <th>2018-01-01</th>\n",
       "      <td>1480000</td>\n",
       "    </tr>\n",
       "    <tr>\n",
       "      <th>2018-02-01</th>\n",
       "      <td>1482900</td>\n",
       "    </tr>\n",
       "    <tr>\n",
       "      <th>2018-03-01</th>\n",
       "      <td>1518600</td>\n",
       "    </tr>\n",
       "    <tr>\n",
       "      <th>2018-04-01</th>\n",
       "      <td>1518400</td>\n",
       "    </tr>\n",
       "    <tr>\n",
       "      <th>2018-05-01</th>\n",
       "      <td>1520200</td>\n",
       "    </tr>\n",
       "    <tr>\n",
       "      <th>2018-06-01</th>\n",
       "      <td>1480000</td>\n",
       "    </tr>\n",
       "    <tr>\n",
       "      <th>2018-07-01</th>\n",
       "      <td>1419100</td>\n",
       "    </tr>\n",
       "    <tr>\n",
       "      <th>2018-08-01</th>\n",
       "      <td>1455200</td>\n",
       "    </tr>\n",
       "    <tr>\n",
       "      <th>2018-09-01</th>\n",
       "      <td>1487800</td>\n",
       "    </tr>\n",
       "    <tr>\n",
       "      <th>2018-10-01</th>\n",
       "      <td>1466500</td>\n",
       "    </tr>\n",
       "    <tr>\n",
       "      <th>2018-11-01</th>\n",
       "      <td>1438400</td>\n",
       "    </tr>\n",
       "    <tr>\n",
       "      <th>2018-12-01</th>\n",
       "      <td>1422000</td>\n",
       "    </tr>\n",
       "  </tbody>\n",
       "</table>\n",
       "<p>273 rows × 1 columns</p>\n",
       "</div>"
      ],
      "text/plain": [
       "            San_Francisco_Median_Price\n",
       "Month                                 \n",
       "1996-04-01                      258100\n",
       "1996-05-01                      260850\n",
       "1996-06-01                      262750\n",
       "1996-07-01                      265000\n",
       "1996-08-01                      267100\n",
       "1996-09-01                      267950\n",
       "1996-10-01                      268350\n",
       "1996-11-01                      269900\n",
       "1996-12-01                      271800\n",
       "1997-01-01                      273550\n",
       "1997-02-01                      287400\n",
       "1997-03-01                      290500\n",
       "1997-04-01                      293100\n",
       "1997-05-01                      295500\n",
       "1997-06-01                      297600\n",
       "1997-07-01                      300600\n",
       "1997-08-01                      308550\n",
       "1997-09-01                      313250\n",
       "1997-10-01                      317850\n",
       "1997-11-01                      322650\n",
       "1997-12-01                      327800\n",
       "1998-01-01                      334450\n",
       "1998-02-01                      340850\n",
       "1998-03-01                      343900\n",
       "1998-04-01                      344150\n",
       "1998-05-01                      345300\n",
       "1998-06-01                      348250\n",
       "1998-07-01                      351700\n",
       "1998-08-01                      354700\n",
       "1998-09-01                      357300\n",
       "...                                ...\n",
       "2016-07-01                     1448100\n",
       "2016-08-01                     1431800\n",
       "2016-09-01                     1431000\n",
       "2016-10-01                     1425700\n",
       "2016-11-01                     1424100\n",
       "2016-12-01                     1426500\n",
       "2017-01-01                     1427800\n",
       "2017-02-01                     1428500\n",
       "2017-03-01                     1435800\n",
       "2017-04-01                     1447500\n",
       "2017-05-01                     1453300\n",
       "2017-06-01                     1455300\n",
       "2017-07-01                     1460600\n",
       "2017-08-01                     1469400\n",
       "2017-09-01                     1475500\n",
       "2017-10-01                     1406500\n",
       "2017-11-01                     1443800\n",
       "2017-12-01                     1444100\n",
       "2018-01-01                     1480000\n",
       "2018-02-01                     1482900\n",
       "2018-03-01                     1518600\n",
       "2018-04-01                     1518400\n",
       "2018-05-01                     1520200\n",
       "2018-06-01                     1480000\n",
       "2018-07-01                     1419100\n",
       "2018-08-01                     1455200\n",
       "2018-09-01                     1487800\n",
       "2018-10-01                     1466500\n",
       "2018-11-01                     1438400\n",
       "2018-12-01                     1422000\n",
       "\n",
       "[273 rows x 1 columns]"
      ]
     },
     "execution_count": 16,
     "metadata": {},
     "output_type": "execute_result"
    }
   ],
   "source": [
    "df.drop(columns=['Month'])"
   ]
  },
  {
   "cell_type": "code",
   "execution_count": 17,
   "metadata": {},
   "outputs": [],
   "source": [
    "df['price'] = pd.to_numeric(df.San_Francisco_Median_Price, errors='coerce')"
   ]
  },
  {
   "cell_type": "code",
   "execution_count": 18,
   "metadata": {},
   "outputs": [
    {
     "data": {
      "text/html": [
       "<div>\n",
       "<style scoped>\n",
       "    .dataframe tbody tr th:only-of-type {\n",
       "        vertical-align: middle;\n",
       "    }\n",
       "\n",
       "    .dataframe tbody tr th {\n",
       "        vertical-align: top;\n",
       "    }\n",
       "\n",
       "    .dataframe thead th {\n",
       "        text-align: right;\n",
       "    }\n",
       "</style>\n",
       "<table border=\"1\" class=\"dataframe\">\n",
       "  <thead>\n",
       "    <tr style=\"text-align: right;\">\n",
       "      <th></th>\n",
       "      <th>San_Francisco_Median_Price</th>\n",
       "      <th>price</th>\n",
       "    </tr>\n",
       "  </thead>\n",
       "  <tbody>\n",
       "    <tr>\n",
       "      <th>count</th>\n",
       "      <td>273</td>\n",
       "      <td>273</td>\n",
       "    </tr>\n",
       "    <tr>\n",
       "      <th>mean</th>\n",
       "      <td>827,262</td>\n",
       "      <td>827,262</td>\n",
       "    </tr>\n",
       "    <tr>\n",
       "      <th>std</th>\n",
       "      <td>356,098</td>\n",
       "      <td>356,098</td>\n",
       "    </tr>\n",
       "    <tr>\n",
       "      <th>min</th>\n",
       "      <td>258,100</td>\n",
       "      <td>258,100</td>\n",
       "    </tr>\n",
       "    <tr>\n",
       "      <th>25%</th>\n",
       "      <td>593,450</td>\n",
       "      <td>593,450</td>\n",
       "    </tr>\n",
       "    <tr>\n",
       "      <th>50%</th>\n",
       "      <td>790,300</td>\n",
       "      <td>790,300</td>\n",
       "    </tr>\n",
       "    <tr>\n",
       "      <th>75%</th>\n",
       "      <td>914,800</td>\n",
       "      <td>914,800</td>\n",
       "    </tr>\n",
       "    <tr>\n",
       "      <th>max</th>\n",
       "      <td>1,520,200</td>\n",
       "      <td>1,520,200</td>\n",
       "    </tr>\n",
       "  </tbody>\n",
       "</table>\n",
       "</div>"
      ],
      "text/plain": [
       "       San_Francisco_Median_Price     price\n",
       "count                         273       273\n",
       "mean                      827,262   827,262\n",
       "std                       356,098   356,098\n",
       "min                       258,100   258,100\n",
       "25%                       593,450   593,450\n",
       "50%                       790,300   790,300\n",
       "75%                       914,800   914,800\n",
       "max                     1,520,200 1,520,200"
      ]
     },
     "execution_count": 18,
     "metadata": {},
     "output_type": "execute_result"
    }
   ],
   "source": [
    "# sanity check\n",
    "pd.options.display.float_format = '{:,.0f}'.format # Limit output to no decimal places\n",
    "df.describe()"
   ]
  },
  {
   "cell_type": "code",
   "execution_count": 19,
   "metadata": {},
   "outputs": [
    {
     "data": {
      "image/png": "[encoded data removed]",
      "text/plain": [
       "<Figure size 432x288 with 1 Axes>"
      ]
     },
     "metadata": {},
     "output_type": "display_data"
    }
   ],
   "source": [
    "df.index = pd.to_datetime(df.Month)\n",
    "j = df.plot()\n",
    "j.get_yaxis().set_major_formatter(plt.FuncFormatter(lambda x, loc: \"{:,}\".format(int(x))))\n",
    "plt.title('Monthly Median San Francisco Sale Prices')\n",
    "plt.show()"
   ]
  },
  {
   "cell_type": "code",
   "execution_count": 20,
   "metadata": {},
   "outputs": [
    {
     "data": {
      "image/png": "[encoded data removed]",
      "text/plain": [
       "<Figure size 432x288 with 1 Axes>"
      ]
     },
     "metadata": {},
     "output_type": "display_data"
    }
   ],
   "source": [
    "# Plotting the difference \n",
    "\n",
    "df['diff_1'] = df.price - df.price.shift()\n",
    "k = df.plot(y='diff_1')\n",
    "k.get_yaxis().set_major_formatter(plt.FuncFormatter(lambda x, loc: \"{:,}\".format(int(x))))\n",
    "plt.title('Monthly Median San Francisco Sale Prices')\n",
    "plt.show()"
   ]
  },
  {
   "cell_type": "markdown",
   "metadata": {},
   "source": [
    "Good time series reverting behavior with the differencing above.\n",
    "\n",
    "Below is the partial autocorrelation function (PACF) that takes the correlation of time series with a lagged version of itself.  The correlation lags are the bars so a PACF of one is the correlation of our first series with itself lagged by one.  The above diff_1 plot mirrors the PACF plot below."
   ]
  },
  {
   "cell_type": "code",
   "execution_count": 21,
   "metadata": {},
   "outputs": [
    {
     "data": {
      "text/plain": [
       "Text(0.5, 1.0, 'Monthly Median San Francisco Sale Price')"
      ]
     },
     "execution_count": 21,
     "metadata": {},
     "output_type": "execute_result"
    },
    {
     "data": {
      "image/png": "[encoded data removed]",
      "text/plain": [
       "<Figure size 432x288 with 1 Axes>"
      ]
     },
     "metadata": {},
     "output_type": "display_data"
    }
   ],
   "source": [
    "from statsmodels.tsa.stattools import pacf\n",
    "x_acf = pd.DataFrame(pacf(df.price))\n",
    "x_acf.plot(kind='bar')\n",
    "plt.title(\"Monthly Median San Francisco Sale Price\", color=\"orange\")"
   ]
  },
  {
   "cell_type": "code",
   "execution_count": 22,
   "metadata": {},
   "outputs": [
    {
     "data": {
      "text/plain": [
       "<matplotlib.legend.Legend at 0x129c44748>"
      ]
     },
     "execution_count": 22,
     "metadata": {},
     "output_type": "execute_result"
    },
    {
     "data": {
      "image/png": "[encoded data removed]",
      "text/plain": [
       "<Figure size 432x288 with 1 Axes>"
      ]
     },
     "metadata": {},
     "output_type": "display_data"
    }
   ],
   "source": [
    "x_acf = pd.DataFrame(pacf(df.diff_1[1:]))\n",
    "x_acf.plot(kind='bar')\n",
    "plt.title(\"Monthly Median San Francisco Sale Price\", color=\"green\")\n",
    "plt.legend(['difference'])"
   ]
  },
  {
   "cell_type": "markdown",
   "metadata": {},
   "source": [
    "We can conclude the set up for ARIMA as the time sequence is overwhelmingly near zero for all the plots above.  The past values are the AR, the level of differencing is I, and adjusting for past errors is MA.  Let's first start with ARMA before we run ARIMA."
   ]
  },
  {
   "cell_type": "markdown",
   "metadata": {},
   "source": [
    "# IV.  ARIMA Model\n",
    "\n",
    "There are two arguments, which are set up data and the parameter orders.  First, is the dataset and second are three variables, which are the number of lag observations, p, the degree of differencing, d and the size of the moving average window, q.  A value of 1 for p, d or q indicates in use, while a zero indicates not in use.    \n"
   ]
  },
  {
   "cell_type": "code",
   "execution_count": 23,
   "metadata": {},
   "outputs": [
    {
     "name": "stderr",
     "output_type": "stream",
     "text": [
      "/Users/lacivert/anaconda3/lib/python3.7/site-packages/statsmodels/tsa/base/tsa_model.py:171: ValueWarning: No frequency information was provided, so inferred frequency MS will be used.\n",
      "  % freq, ValueWarning)\n",
      "/Users/lacivert/anaconda3/lib/python3.7/site-packages/statsmodels/tsa/base/tsa_model.py:191: FutureWarning: Creating a DatetimeIndex by passing range endpoints is deprecated.  Use `pandas.date_range` instead.\n",
      "  start=index[0], end=index[-1], freq=freq)\n"
     ]
    },
    {
     "name": "stdout",
     "output_type": "stream",
     "text": [
      "                              ARMA Model Results                              \n",
      "==============================================================================\n",
      "Dep. Variable:                  price   No. Observations:                  273\n",
      "Model:                     ARMA(1, 1)   Log Likelihood               -2954.915\n",
      "Method:                       css-mle   S.D. of innovations          11975.183\n",
      "Date:                Fri, 24 May 2019   AIC                           5917.830\n",
      "Time:                        13:09:56   BIC                           5932.268\n",
      "Sample:                    04-01-1996   HQIC                          5923.626\n",
      "                         - 12-01-2018                                         \n",
      "===============================================================================\n",
      "                  coef    std err          z      P>|z|      [0.025      0.975]\n",
      "-------------------------------------------------------------------------------\n",
      "const        8.273e+05   5.47e+05      1.512      0.132   -2.45e+05     1.9e+06\n",
      "ar.L1.price     0.9996      0.001   1744.401      0.000       0.998       1.001\n",
      "ma.L1.price     0.3483      0.044      7.972      0.000       0.263       0.434\n",
      "                                    Roots                                    \n",
      "=============================================================================\n",
      "                  Real          Imaginary           Modulus         Frequency\n",
      "-----------------------------------------------------------------------------\n",
      "AR.1            1.0004           +0.0000j            1.0004            0.0000\n",
      "MA.1           -2.8710           +0.0000j            2.8710            0.5000\n",
      "-----------------------------------------------------------------------------\n",
      "Residuals Description\n",
      "count        273\n",
      "mean       1,068\n",
      "std       36,513\n",
      "min     -569,162\n",
      "25%       -1,089\n",
      "50%        2,542\n",
      "75%        7,508\n",
      "max       61,944\n",
      "dtype: float64\n"
     ]
    }
   ],
   "source": [
    "from statsmodels.tsa.arima_model import ARIMA\n",
    "model = ARIMA(df.price, order=(1,0,1))\n",
    "model_fit = model.fit()\n",
    "#disp=0\n",
    "\n",
    "print(model_fit.summary())\n",
    "print('Residuals Description')\n",
    "print(model_fit.resid.describe())"
   ]
  },
  {
   "cell_type": "markdown",
   "metadata": {},
   "source": [
    "The output is more than we need, but we can focus on a few details in the ARMA model above.  The ar.L1.price section has a confidence interval not crossing zero, but 0.998 and 1.001, which is for good for autoregression.  The moving average in ma.L1.price has similar results with 0.263 and 0.434 with both p values below 0.05 with zero under P>|z|.  \n",
    "\n",
    "Let's integrate with ARIMA below.  "
   ]
  },
  {
   "cell_type": "code",
   "execution_count": 24,
   "metadata": {},
   "outputs": [
    {
     "name": "stdout",
     "output_type": "stream",
     "text": [
      "                             ARIMA Model Results                              \n",
      "==============================================================================\n",
      "Dep. Variable:                D.price   No. Observations:                  272\n",
      "Model:                 ARIMA(1, 1, 1)   Log Likelihood               -2919.989\n",
      "Method:                       css-mle   S.D. of innovations          11112.940\n",
      "Date:                Fri, 24 May 2019   AIC                           5847.979\n",
      "Time:                        13:10:29   BIC                           5862.402\n",
      "Sample:                    05-01-1996   HQIC                          5853.769\n",
      "                         - 12-01-2018                                         \n",
      "=================================================================================\n",
      "                    coef    std err          z      P>|z|      [0.025      0.975]\n",
      "---------------------------------------------------------------------------------\n",
      "const          4161.8971   1422.402      2.926      0.004    1374.040    6949.754\n",
      "ar.L1.D.price     0.6614      0.122      5.406      0.000       0.422       0.901\n",
      "ma.L1.D.price    -0.2818      0.162     -1.736      0.084      -0.600       0.036\n",
      "                                    Roots                                    \n",
      "=============================================================================\n",
      "                  Real          Imaginary           Modulus         Frequency\n",
      "-----------------------------------------------------------------------------\n",
      "AR.1            1.5120           +0.0000j            1.5120            0.0000\n",
      "MA.1            3.5492           +0.0000j            3.5492            0.0000\n",
      "-----------------------------------------------------------------------------\n",
      "Residuals Description\n",
      "count       272\n",
      "mean         -5\n",
      "std      11,133\n",
      "min     -74,419\n",
      "25%      -3,887\n",
      "50%        -274\n",
      "75%       4,037\n",
      "max      61,410\n",
      "dtype: float64\n"
     ]
    },
    {
     "name": "stderr",
     "output_type": "stream",
     "text": [
      "/Users/lacivert/anaconda3/lib/python3.7/site-packages/statsmodels/tsa/base/tsa_model.py:171: ValueWarning: No frequency information was provided, so inferred frequency MS will be used.\n",
      "  % freq, ValueWarning)\n",
      "/Users/lacivert/anaconda3/lib/python3.7/site-packages/statsmodels/tsa/base/tsa_model.py:191: FutureWarning: Creating a DatetimeIndex by passing range endpoints is deprecated.  Use `pandas.date_range` instead.\n",
      "  start=index[0], end=index[-1], freq=freq)\n",
      "/Users/lacivert/anaconda3/lib/python3.7/site-packages/statsmodels/tsa/base/tsa_model.py:171: ValueWarning: No frequency information was provided, so inferred frequency MS will be used.\n",
      "  % freq, ValueWarning)\n"
     ]
    }
   ],
   "source": [
    "from statsmodels.tsa.arima_model import ARIMA\n",
    "model = ARIMA(df.price, order=(1,1,1))\n",
    "model_fit = model.fit(disp=0)\n",
    "print(model_fit.summary())\n",
    "print('Residuals Description')\n",
    "print(model_fit.resid.describe())"
   ]
  },
  {
   "cell_type": "markdown",
   "metadata": {},
   "source": [
    "Not good as our confidence interval goes below zero in the moving average with -0.6 and a p-value greater than 0.05 with 0.084.  Let's tweak our methodology with weighted averages as the time series have evolving averages over time.   "
   ]
  },
  {
   "cell_type": "markdown",
   "metadata": {},
   "source": [
    "# V.  Exponential Smoothing\n",
    "\n",
    "To address a seasonal component in the time series data, the Exponential Smoothing Method takes weighted averages of past observations with an exponentially decreasing weight. In other words, the more recent the observations the higher the associated weight.  From a business perspective, recent median sale prices in the past few years in our dataset is of greater signficance than the 1990's because the drivers of price evolve over time.  Just another reason to not select a multi-factor model like multiple linear regression."
   ]
  },
  {
   "cell_type": "code",
   "execution_count": 25,
   "metadata": {},
   "outputs": [
    {
     "name": "stderr",
     "output_type": "stream",
     "text": [
      "/Users/lacivert/anaconda3/lib/python3.7/site-packages/statsmodels/tsa/base/tsa_model.py:171: ValueWarning: No frequency information was provided, so inferred frequency MS will be used.\n",
      "  % freq, ValueWarning)\n",
      "/Users/lacivert/anaconda3/lib/python3.7/site-packages/statsmodels/tsa/base/tsa_model.py:191: FutureWarning: Creating a DatetimeIndex by passing range endpoints is deprecated.  Use `pandas.date_range` instead.\n",
      "  start=index[0], end=index[-1], freq=freq)\n"
     ]
    }
   ],
   "source": [
    "# Exponential Smoothing data treatment\n",
    "from statsmodels.tsa.holtwinters import SimpleExpSmoothing\n",
    "\n",
    "# fit model\n",
    "model_expSm = SimpleExpSmoothing(df.price) \n",
    "model_expSm_fit = model_expSm.fit()"
   ]
  },
  {
   "cell_type": "code",
   "execution_count": 26,
   "metadata": {},
   "outputs": [
    {
     "name": "stdout",
     "output_type": "stream",
     "text": [
      "2019-01-01   1,422,000\n",
      "Freq: MS, dtype: float64\n"
     ]
    },
    {
     "name": "stderr",
     "output_type": "stream",
     "text": [
      "/Users/lacivert/anaconda3/lib/python3.7/site-packages/statsmodels/tsa/base/tsa_model.py:320: FutureWarning: Creating a DatetimeIndex by passing range endpoints is deprecated.  Use `pandas.date_range` instead.\n",
      "  freq=base_index.freq)\n"
     ]
    }
   ],
   "source": [
    "# make a prediction\n",
    "yhat = model_expSm_fit.predict(len(df.price), len(df.price))\n",
    "print(yhat)"
   ]
  },
  {
   "cell_type": "markdown",
   "metadata": {},
   "source": [
    "# Next month's San Francisco Median Price is 1,422,000"
   ]
  },
  {
   "cell_type": "code",
   "execution_count": 27,
   "metadata": {},
   "outputs": [
    {
     "data": {
      "text/plain": [
       "Text(0.5, 1.0, 'Histogram of Residuals')"
      ]
     },
     "execution_count": 27,
     "metadata": {},
     "output_type": "execute_result"
    },
    {
     "data": {
      "image/png": "[encoded data removed]",
      "text/plain": [
       "<Figure size 432x288 with 1 Axes>"
      ]
     },
     "metadata": {},
     "output_type": "display_data"
    },
    {
     "data": {
      "image/png": "[encoded data removed]",
      "text/plain": [
       "<Figure size 432x288 with 1 Axes>"
      ]
     },
     "metadata": {},
     "output_type": "display_data"
    }
   ],
   "source": [
    "residuals = pd.DataFrame(model_expSm_fit.resid)\n",
    "\n",
    "n = residuals.plot(legend=False)\n",
    "n.get_yaxis().set_major_formatter(plt.FuncFormatter(lambda x, loc: \"{:,}\".format(int(x))))\n",
    "plt.title('Time Series of Residuals')\n",
    "\n",
    "m = residuals.hist(bins=20)\n",
    "plt.title('Histogram of Residuals')"
   ]
  },
  {
   "cell_type": "markdown",
   "metadata": {},
   "source": [
    "A residual data point is the difference between a prediction value and an observed quantity.  Altogether, the residuals resemble a normal distribution with the central tendency near zero so very small amounts of both overshooting and undershooting cancel each other out as time progresses.  The vast majority of historical residuals is a positive or negative 20,000, which is about two and half percent to the historical median or historical average, i.e. more or less 800,000.  We have an acceptable level of error for a predictive model of the median sale price of residential real estate of San Francisco.  \n",
    "\n",
    " "
   ]
  },
  {
   "cell_type": "markdown",
   "metadata": {},
   "source": [
    "# VI. Conclusion\n",
    "\n",
    "The example dataset from the Zillow website provides a challenging case to predict next month's median sale price, but the available models above can handle the complexity.  Of course, other datasets may be less complicated, but the step by step approach above from data analysis to modeling is a strong approach for predictive analytics of residential real estate pricing.  In addition, both ARIMA and Exponential Smoothing are a single element in a set of equations, respectively, providing room for an extension, if needed.   "
   ]
  },
  {
   "cell_type": "markdown",
   "metadata": {},
   "source": [
    "# VII. Appendix\n",
    "\n",
    "__Version List__\n",
    "\n",
    "Python 3.7.2\n",
    "\n",
    "NumPy 1.16.3\n",
    "\n",
    "Pandas 0.24.2\n",
    "\n",
    "SciPy 1.3.0\n",
    "\n",
    "Seaborn 0.9.0\n",
    "\n",
    "MatPlotLib 3.1.0\n",
    "\n",
    "__Citations__\n",
    "\n",
    "Seabold, Skipper, and Josef Perktold. “Statsmodels: Econometric and statistical modeling with python.” Proceedings of the 9th Python in Science Conference. 2010.\n",
    "\n",
    "Skewness:  https://en.wikipedia.org/wiki/Skewness\n",
    "\n",
    "Kurtosis:  https://en.wikipedia.org/wiki/Kurtosis\n",
    "\n",
    "Shapiro–Wilk test:  https://en.wikipedia.org/wiki/Shapiro%E2%80%93Wilk_test\n",
    "\n",
    "Autoregressive Model (AR) https://en.wikipedia.org/wiki/Autoregressive_model\n",
    "\n",
    "Moving Average Model (MA) https://en.wikipedia.org/wiki/Moving-average_model\n",
    "\n",
    "Autoregressive Integrated Moving Average (ARIMA):  https://en.wikipedia.org/wiki/Autoregressive_integrated_moving_average\n",
    "\n",
    "Exponential Smoothing:  Hyndman, Rob J., and George Athanasopoulos. Forecasting: principles and practice. OTexts, 2014.\n",
    "\n",
    "\n"
   ]
  },
  {
   "cell_type": "code",
   "execution_count": null,
   "metadata": {},
   "outputs": [],
   "source": []
  }
 ],
 "metadata": {
  "kernelspec": {
   "display_name": "Python 3",
   "language": "python",
   "name": "python3"
  },
  "language_info": {
   "codemirror_mode": {
    "name": "ipython",
    "version": 3
   },
   "file_extension": ".py",
   "mimetype": "text/x-python",
   "name": "python",
   "nbconvert_exporter": "python",
   "pygments_lexer": "ipython3",
   "version": "3.7.2"
  }
 },
 "nbformat": 4,
 "nbformat_minor": 2
}
