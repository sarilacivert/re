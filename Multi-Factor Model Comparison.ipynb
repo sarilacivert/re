{
 "cells": [
  {
   "cell_type": "markdown",
   "metadata": {},
   "source": [
    "# Multi-Factor Model Comparison with California Housing Set\n",
    "\n",
    "What makes a good multi-factor model?  One way is the standarized assessment of a goodness of fit or R squared.  Statistically, the coefficient of multiple determination, ranging from zero to one, . . . below is a demonstration of two different models with a standard dataset for California Housing. \n",
    "\n",
    "The closer to one we get for R squared, the better the factors or features explains the price of housing.  We begin with the classical model first and score its goodness of fit, followed by a contemporary model and its score.  Data visualizations of the missed predictions will accompany the scores and we will see how the latter model will improve over the older model.\n",
    "\n",
    "#### I.    Importing the Dataset and Set Up\n",
    "\n",
    "#### II.   Classical Multiple Linear Regression\n",
    "\n",
    "#### III.  Contemporary Support Vector Regression"
   ]
  },
  {
   "cell_type": "code",
   "execution_count": 17,
   "metadata": {},
   "outputs": [],
   "source": [
    "# Required imports\n",
    "import numpy as np\n",
    "import pandas as pd\n",
    "\n",
    "\n",
    "# Required data science libaries\n",
    "from sklearn import datasets\n",
    "from sklearn.model_selection import train_test_split\n",
    "from sklearn.linear_model import LinearRegression\n",
    "from sklearn import svm\n",
    "\n",
    "# Data Visualization Libaries \n",
    "import seaborn as sns\n",
    "import matplotlib.pyplot as plt\n",
    "%matplotlib inline\n",
    "\n",
    "# Remove annoying warnings\n",
    "import warnings\n",
    "warnings.filterwarnings(\"ignore\")"
   ]
  },
  {
   "cell_type": "markdown",
   "metadata": {},
   "source": [
    "# I.    Importing the Dataset and Set Up"
   ]
  },
  {
   "cell_type": "code",
   "execution_count": 2,
   "metadata": {},
   "outputs": [],
   "source": [
    "from sklearn.datasets.california_housing import fetch_california_housing\n",
    "cal_housing = fetch_california_housing()"
   ]
  },
  {
   "cell_type": "code",
   "execution_count": 3,
   "metadata": {},
   "outputs": [],
   "source": [
    "X, y = cal_housing.data, cal_housing.target\n",
    "\n",
    "names = cal_housing.feature_names"
   ]
  },
  {
   "cell_type": "markdown",
   "metadata": {},
   "source": [
    "#### A description of the California housing dataset can be found here below and native to the sklearn library.\n",
    "\n",
    "http://www.dcc.fc.up.pt/~ltorgo/Regression/cal_housing.html"
   ]
  },
  {
   "cell_type": "code",
   "execution_count": 31,
   "metadata": {},
   "outputs": [
    {
     "data": {
      "text/plain": [
       "(20640, 8)"
      ]
     },
     "execution_count": 31,
     "metadata": {},
     "output_type": "execute_result"
    }
   ],
   "source": [
    "cal_housing.data.shape"
   ]
  },
  {
   "cell_type": "markdown",
   "metadata": {},
   "source": [
    "#### There are 20,640 observations with 8 features."
   ]
  },
  {
   "cell_type": "code",
   "execution_count": 5,
   "metadata": {},
   "outputs": [
    {
     "name": "stdout",
     "output_type": "stream",
     "text": [
      "['MedInc', 'HouseAge', 'AveRooms', 'AveBedrms', 'Population', 'AveOccup', 'Latitude', 'Longitude']\n"
     ]
    }
   ],
   "source": [
    "print(cal_housing.feature_names)"
   ]
  },
  {
   "cell_type": "markdown",
   "metadata": {},
   "source": [
    "#### Assign the variables for analysis"
   ]
  },
  {
   "cell_type": "code",
   "execution_count": 6,
   "metadata": {},
   "outputs": [],
   "source": [
    "df = pd.DataFrame(data=X)\n",
    "\n",
    "MedInc, HouseAge, AveRooms, AveBedrms = df.loc[:, 0], df.loc[:, 1], df.loc[:, 2], df.loc[:, 3]\n",
    "\n",
    "Population, AveOccup, Latitude, Longitude = df.loc[:, 4], df.loc[:, 5], df.loc[:, 6], df.loc[:, 7]"
   ]
  },
  {
   "cell_type": "markdown",
   "metadata": {},
   "source": [
    "#### If we look at the descriptive statistics, then there is good variability across all the features.  "
   ]
  },
  {
   "cell_type": "code",
   "execution_count": 7,
   "metadata": {},
   "outputs": [
    {
     "data": {
      "text/html": [
       "<div>\n",
       "<style scoped>\n",
       "    .dataframe tbody tr th:only-of-type {\n",
       "        vertical-align: middle;\n",
       "    }\n",
       "\n",
       "    .dataframe tbody tr th {\n",
       "        vertical-align: top;\n",
       "    }\n",
       "\n",
       "    .dataframe thead th {\n",
       "        text-align: right;\n",
       "    }\n",
       "</style>\n",
       "<table border=\"1\" class=\"dataframe\">\n",
       "  <thead>\n",
       "    <tr style=\"text-align: right;\">\n",
       "      <th></th>\n",
       "      <th>0</th>\n",
       "      <th>1</th>\n",
       "      <th>2</th>\n",
       "      <th>3</th>\n",
       "      <th>4</th>\n",
       "      <th>5</th>\n",
       "      <th>6</th>\n",
       "      <th>7</th>\n",
       "    </tr>\n",
       "  </thead>\n",
       "  <tbody>\n",
       "    <tr>\n",
       "      <th>count</th>\n",
       "      <td>20,640.00</td>\n",
       "      <td>20,640.00</td>\n",
       "      <td>20,640.00</td>\n",
       "      <td>20,640.00</td>\n",
       "      <td>20,640.00</td>\n",
       "      <td>20,640.00</td>\n",
       "      <td>20,640.00</td>\n",
       "      <td>20,640.00</td>\n",
       "    </tr>\n",
       "    <tr>\n",
       "      <th>mean</th>\n",
       "      <td>3.87</td>\n",
       "      <td>28.64</td>\n",
       "      <td>5.43</td>\n",
       "      <td>1.10</td>\n",
       "      <td>1,425.48</td>\n",
       "      <td>3.07</td>\n",
       "      <td>35.63</td>\n",
       "      <td>-119.57</td>\n",
       "    </tr>\n",
       "    <tr>\n",
       "      <th>std</th>\n",
       "      <td>1.90</td>\n",
       "      <td>12.59</td>\n",
       "      <td>2.47</td>\n",
       "      <td>0.47</td>\n",
       "      <td>1,132.46</td>\n",
       "      <td>10.39</td>\n",
       "      <td>2.14</td>\n",
       "      <td>2.00</td>\n",
       "    </tr>\n",
       "    <tr>\n",
       "      <th>min</th>\n",
       "      <td>0.50</td>\n",
       "      <td>1.00</td>\n",
       "      <td>0.85</td>\n",
       "      <td>0.33</td>\n",
       "      <td>3.00</td>\n",
       "      <td>0.69</td>\n",
       "      <td>32.54</td>\n",
       "      <td>-124.35</td>\n",
       "    </tr>\n",
       "    <tr>\n",
       "      <th>25%</th>\n",
       "      <td>2.56</td>\n",
       "      <td>18.00</td>\n",
       "      <td>4.44</td>\n",
       "      <td>1.01</td>\n",
       "      <td>787.00</td>\n",
       "      <td>2.43</td>\n",
       "      <td>33.93</td>\n",
       "      <td>-121.80</td>\n",
       "    </tr>\n",
       "    <tr>\n",
       "      <th>50%</th>\n",
       "      <td>3.53</td>\n",
       "      <td>29.00</td>\n",
       "      <td>5.23</td>\n",
       "      <td>1.05</td>\n",
       "      <td>1,166.00</td>\n",
       "      <td>2.82</td>\n",
       "      <td>34.26</td>\n",
       "      <td>-118.49</td>\n",
       "    </tr>\n",
       "    <tr>\n",
       "      <th>75%</th>\n",
       "      <td>4.74</td>\n",
       "      <td>37.00</td>\n",
       "      <td>6.05</td>\n",
       "      <td>1.10</td>\n",
       "      <td>1,725.00</td>\n",
       "      <td>3.28</td>\n",
       "      <td>37.71</td>\n",
       "      <td>-118.01</td>\n",
       "    </tr>\n",
       "    <tr>\n",
       "      <th>max</th>\n",
       "      <td>15.00</td>\n",
       "      <td>52.00</td>\n",
       "      <td>141.91</td>\n",
       "      <td>34.07</td>\n",
       "      <td>35,682.00</td>\n",
       "      <td>1,243.33</td>\n",
       "      <td>41.95</td>\n",
       "      <td>-114.31</td>\n",
       "    </tr>\n",
       "  </tbody>\n",
       "</table>\n",
       "</div>"
      ],
      "text/plain": [
       "              0         1         2         3         4         5         6  \\\n",
       "count 20,640.00 20,640.00 20,640.00 20,640.00 20,640.00 20,640.00 20,640.00   \n",
       "mean       3.87     28.64      5.43      1.10  1,425.48      3.07     35.63   \n",
       "std        1.90     12.59      2.47      0.47  1,132.46     10.39      2.14   \n",
       "min        0.50      1.00      0.85      0.33      3.00      0.69     32.54   \n",
       "25%        2.56     18.00      4.44      1.01    787.00      2.43     33.93   \n",
       "50%        3.53     29.00      5.23      1.05  1,166.00      2.82     34.26   \n",
       "75%        4.74     37.00      6.05      1.10  1,725.00      3.28     37.71   \n",
       "max       15.00     52.00    141.91     34.07 35,682.00  1,243.33     41.95   \n",
       "\n",
       "              7  \n",
       "count 20,640.00  \n",
       "mean    -119.57  \n",
       "std        2.00  \n",
       "min     -124.35  \n",
       "25%     -121.80  \n",
       "50%     -118.49  \n",
       "75%     -118.01  \n",
       "max     -114.31  "
      ]
     },
     "execution_count": 7,
     "metadata": {},
     "output_type": "execute_result"
    }
   ],
   "source": [
    "pd.options.display.float_format = '{:,.2f}'.format # Limit output to fewer decimal places\n",
    "df.describe()"
   ]
  },
  {
   "cell_type": "code",
   "execution_count": 8,
   "metadata": {},
   "outputs": [
    {
     "data": {
      "text/html": [
       "<div>\n",
       "<style scoped>\n",
       "    .dataframe tbody tr th:only-of-type {\n",
       "        vertical-align: middle;\n",
       "    }\n",
       "\n",
       "    .dataframe tbody tr th {\n",
       "        vertical-align: top;\n",
       "    }\n",
       "\n",
       "    .dataframe thead th {\n",
       "        text-align: right;\n",
       "    }\n",
       "</style>\n",
       "<table border=\"1\" class=\"dataframe\">\n",
       "  <thead>\n",
       "    <tr style=\"text-align: right;\">\n",
       "      <th></th>\n",
       "      <th>0</th>\n",
       "      <th>1</th>\n",
       "      <th>2</th>\n",
       "      <th>3</th>\n",
       "      <th>4</th>\n",
       "      <th>5</th>\n",
       "      <th>6</th>\n",
       "      <th>7</th>\n",
       "      <th>Price</th>\n",
       "    </tr>\n",
       "  </thead>\n",
       "  <tbody>\n",
       "    <tr>\n",
       "      <th>0</th>\n",
       "      <td>8.33</td>\n",
       "      <td>41.00</td>\n",
       "      <td>6.98</td>\n",
       "      <td>1.02</td>\n",
       "      <td>322.00</td>\n",
       "      <td>2.56</td>\n",
       "      <td>37.88</td>\n",
       "      <td>-122.23</td>\n",
       "      <td>4.53</td>\n",
       "    </tr>\n",
       "    <tr>\n",
       "      <th>1</th>\n",
       "      <td>8.30</td>\n",
       "      <td>21.00</td>\n",
       "      <td>6.24</td>\n",
       "      <td>0.97</td>\n",
       "      <td>2,401.00</td>\n",
       "      <td>2.11</td>\n",
       "      <td>37.86</td>\n",
       "      <td>-122.22</td>\n",
       "      <td>3.58</td>\n",
       "    </tr>\n",
       "    <tr>\n",
       "      <th>2</th>\n",
       "      <td>7.26</td>\n",
       "      <td>52.00</td>\n",
       "      <td>8.29</td>\n",
       "      <td>1.07</td>\n",
       "      <td>496.00</td>\n",
       "      <td>2.80</td>\n",
       "      <td>37.85</td>\n",
       "      <td>-122.24</td>\n",
       "      <td>3.52</td>\n",
       "    </tr>\n",
       "  </tbody>\n",
       "</table>\n",
       "</div>"
      ],
      "text/plain": [
       "     0     1    2    3        4    5     6       7  Price\n",
       "0 8.33 41.00 6.98 1.02   322.00 2.56 37.88 -122.23   4.53\n",
       "1 8.30 21.00 6.24 0.97 2,401.00 2.11 37.86 -122.22   3.58\n",
       "2 7.26 52.00 8.29 1.07   496.00 2.80 37.85 -122.24   3.52"
      ]
     },
     "execution_count": 8,
     "metadata": {},
     "output_type": "execute_result"
    }
   ],
   "source": [
    "# create target variable to set up for multi-factor modeling\n",
    "df['Price'] = cal_housing.target\n",
    "df.head(3)"
   ]
  },
  {
   "cell_type": "markdown",
   "metadata": {},
   "source": [
    "#    II.  Classical Multiple Linear Regression Model\n",
    "\n",
    "Commonly used in the industry for many years . . .\n",
    "\n",
    "## Split train-test dataset\n",
    "\n",
    "#### Split the dataset into two for training and testing with a target value, y, and a set of predictor values, X. \n",
    "\n",
    "#### Y = California Housing Price\n",
    "\n",
    "#### X = All other features"
   ]
  },
  {
   "cell_type": "code",
   "execution_count": 9,
   "metadata": {},
   "outputs": [],
   "source": [
    "X = df.drop('Price', axis = 1)\n",
    "\n",
    "Y = df['Price']"
   ]
  },
  {
   "cell_type": "code",
   "execution_count": 10,
   "metadata": {},
   "outputs": [
    {
     "name": "stdout",
     "output_type": "stream",
     "text": [
      "(13828, 8)\n",
      "(6812, 8)\n",
      "(13828,)\n",
      "(6812,)\n"
     ]
    }
   ],
   "source": [
    "X_train, X_test, Y_train, Y_test = train_test_split(X, Y, test_size = 0.33, random_state = 5)\n",
    "\n",
    "print(X_train.shape)\n",
    "\n",
    "print(X_test.shape)\n",
    "\n",
    "print(Y_train.shape)\n",
    "\n",
    "print(Y_test.shape)"
   ]
  },
  {
   "cell_type": "markdown",
   "metadata": {},
   "source": [
    "#### Implement by fitting and scoring the MLR model with our dataset"
   ]
  },
  {
   "cell_type": "code",
   "execution_count": 11,
   "metadata": {},
   "outputs": [
    {
     "data": {
      "text/plain": [
       "0.6062326851998049"
      ]
     },
     "execution_count": 11,
     "metadata": {},
     "output_type": "execute_result"
    }
   ],
   "source": [
    "reg = LinearRegression().fit(X, y)\n",
    "\n",
    "reg.score(X, y)"
   ]
  },
  {
   "cell_type": "markdown",
   "metadata": {},
   "source": [
    "#### Above is a goodness of fit measure, the coefficient of determination R^2 of the prediction.  A perfect 1.00 is overfitting so a 0.606 is not bad, but can be improved to a higher value."
   ]
  },
  {
   "cell_type": "code",
   "execution_count": 12,
   "metadata": {},
   "outputs": [],
   "source": [
    "data = np.array(X)"
   ]
  },
  {
   "cell_type": "code",
   "execution_count": 13,
   "metadata": {},
   "outputs": [
    {
     "data": {
      "text/plain": [
       "array([4.13164983, 3.97660644, 3.67657094, ..., 0.17125141, 0.31910524,\n",
       "       0.51580363])"
      ]
     },
     "execution_count": 13,
     "metadata": {},
     "output_type": "execute_result"
    }
   ],
   "source": [
    "reg.predict(data)"
   ]
  },
  {
   "cell_type": "markdown",
   "metadata": {},
   "source": [
    "#### The above predictions are for the features in the dataset, but let's continue to focus on the goodness of fit of the model by looking at at the predictions.\n",
    "\n",
    "#### Residuals are the difference between the observed value of the dependent variable, y, the observed price of housing and the predicted value y hat.  In a linear regression, residuals have to be small and normally distributed."
   ]
  },
  {
   "cell_type": "code",
   "execution_count": 18,
   "metadata": {},
   "outputs": [
    {
     "data": {
      "text/plain": [
       "Text(0.5, 1.0, 'Residual Plot using training in red and test in orange data')"
      ]
     },
     "execution_count": 18,
     "metadata": {},
     "output_type": "execute_result"
    },
    {
     "data": {
      "image/png": "[encoded data removed]",
      "text/plain": [
       "<Figure size 432x288 with 1 Axes>"
      ]
     },
     "metadata": {},
     "output_type": "display_data"
    }
   ],
   "source": [
    "# Grid Set Up\n",
    "sns.set(style=\"whitegrid\")\n",
    "\n",
    "# Variables for the plot\n",
    "g = plt.scatter(reg.predict(X_train), reg.predict(X_train) - Y_train, marker = 'o', c = 'red', s = 40, alpha = 0.5)\n",
    "h = plt.scatter(reg.predict(X_test), reg.predict(X_test) - Y_test, marker = 'x', c = 'orange', s = 40)\n",
    "\n",
    "#Scaling the output to fit\n",
    "plt.xlim(-2, 8) #for x axis\n",
    "plt.ylim(-6,8) #for y axis\n",
    "plt.hlines ( y = 0, xmin = -2, xmax = 8)\n",
    "\n",
    "# Title\n",
    "plt.title ('Residual Plot using training in red and test in orange data',color='blue')"
   ]
  },
  {
   "cell_type": "markdown",
   "metadata": {},
   "source": [
    "#### The positive value residuals above the horizontal y-axis has predictions that are too low, while too high predictions are the negative value residuals below the horizontal y-axis.\n",
    "\n",
    "#### An exact guess would be zero, spot on the horizontal y-axis . . . altogether the clustering is a visual indication of relatively strong score.  If we had a more scattered residual plot, then our coefficient of determination R^2 of the prediction would like be lower than 0.60."
   ]
  },
  {
   "cell_type": "markdown",
   "metadata": {},
   "source": [
    "# III. Contemporary Support Vector Regression Model\n",
    "\n",
    "The original paper of the model is below that began with the Support Vector Machine followed by a regression model as an extension.  Unlike the classical model, outliers are not a issue in datasets as the datapoints are split and optimized.\n",
    "\n",
    "http://image.diku.dk/imagecanon/material/cortes_vapnik95.pdf"
   ]
  },
  {
   "cell_type": "code",
   "execution_count": 19,
   "metadata": {},
   "outputs": [],
   "source": [
    "clf = svm.SVR()"
   ]
  },
  {
   "cell_type": "code",
   "execution_count": 20,
   "metadata": {},
   "outputs": [],
   "source": [
    "svr = clf.fit(X, y) "
   ]
  },
  {
   "cell_type": "code",
   "execution_count": 21,
   "metadata": {},
   "outputs": [
    {
     "data": {
      "text/plain": [
       "0.7506287852385003"
      ]
     },
     "execution_count": 21,
     "metadata": {},
     "output_type": "execute_result"
    }
   ],
   "source": [
    "clf.score(X,y)"
   ]
  },
  {
   "cell_type": "markdown",
   "metadata": {},
   "source": [
    "#### We have an improvement of the goodness of fit by about 15 points."
   ]
  },
  {
   "cell_type": "code",
   "execution_count": 22,
   "metadata": {},
   "outputs": [
    {
     "data": {
      "text/plain": [
       "Text(0.5, 1.0, 'Residual Plot using training in red and test in orange data')"
      ]
     },
     "execution_count": 22,
     "metadata": {},
     "output_type": "execute_result"
    },
    {
     "data": {
      "image/png": "[encoded data removed]",
      "text/plain": [
       "<Figure size 432x288 with 1 Axes>"
      ]
     },
     "metadata": {},
     "output_type": "display_data"
    }
   ],
   "source": [
    "# Grid Set Up\n",
    "sns.set(style=\"whitegrid\")\n",
    "\n",
    "# Variables for the plot\n",
    "plt.scatter(svr.predict(X_train), svr.predict(X_train) - Y_train, marker = 'o', c = 'red', s = 40, alpha = 0.5)\n",
    "plt.scatter(svr.predict(X_test), svr.predict(X_test) - Y_test, marker = 'x', c = 'orange', s = 40)\n",
    "\n",
    "#Scaling the output to fit . . . just like Multiple Linear Regresssion\n",
    "plt.xlim(-2, 8) #for x axis\n",
    "plt.ylim(-6,8) #for y axis\n",
    "plt.hlines ( y = 0, xmin = -2, xmax = 8)\n",
    "\n",
    "# Title\n",
    "plt.title ('Residual Plot using training in red and test in orange data',color='blue')"
   ]
  },
  {
   "cell_type": "markdown",
   "metadata": {},
   "source": [
    "#### Residuals are closer together and less sparse than the Multiple Linear Regression residuals . . . on the same identical scale.  "
   ]
  },
  {
   "cell_type": "code",
   "execution_count": 30,
   "metadata": {},
   "outputs": [
    {
     "data": {
      "text/plain": [
       "array([2.94811941, 2.91624468, 3.2408894 , ..., 1.02304626, 0.94714491,\n",
       "       0.99407125])"
      ]
     },
     "execution_count": 30,
     "metadata": {},
     "output_type": "execute_result"
    }
   ],
   "source": [
    "clf.predict(X)"
   ]
  },
  {
   "cell_type": "code",
   "execution_count": null,
   "metadata": {},
   "outputs": [],
   "source": []
  }
 ],
 "metadata": {
  "kernelspec": {
   "display_name": "Python 3",
   "language": "python",
   "name": "python3"
  },
  "language_info": {
   "codemirror_mode": {
    "name": "ipython",
    "version": 3
   },
   "file_extension": ".py",
   "mimetype": "text/x-python",
   "name": "python",
   "nbconvert_exporter": "python",
   "pygments_lexer": "ipython3",
   "version": "3.7.2"
  }
 },
 "nbformat": 4,
 "nbformat_minor": 2
}
